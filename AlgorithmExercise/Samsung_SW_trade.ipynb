{
 "cells": [
  {
   "cell_type": "markdown",
   "metadata": {},
   "source": [
    "# 삼성 SW 유형\n",
    "주로 2차원 배열을 이용한 구현, 시뮬레이션 문제로 출제된다."
   ]
  },
  {
   "cell_type": "markdown",
   "metadata": {},
   "source": [
    "## 1. 기본 알고리즘"
   ]
  },
  {
   "cell_type": "markdown",
   "metadata": {},
   "source": [
    "- 기본으로 사용되는 알고리즘은 완전 탐색(브루트 포스), BFS, DFS, 순열, 조합\n",
    "- itertools, sys 모듈 금지"
   ]
  },
  {
   "cell_type": "markdown",
   "metadata": {},
   "source": [
    "### 1.1 BFS ###"
   ]
  },
  {
   "cell_type": "code",
   "execution_count": null,
   "metadata": {},
   "outputs": [],
   "source": [
    "from collections import deque\n",
    " \n",
    "#      ↑   ←   ↓   →\n",
    "dy = (-1,  0,  1,  0)\n",
    "dx = ( 0, -1,  0,  1)\n",
    " \n",
    "def out_ot_range(y, x): # 격자에서 벗어났는지 확인하는 함수\n",
    "    return y < 0 or x < 0 or y >= N or x >= N\n",
    " \n",
    " \n",
    "def bfs(y, x):\n",
    "    q = deque() # queue\n",
    "    # 시작 좌표(y, x) 삽입 및 visited 표시\n",
    "    q.append((y, x))\n",
    "    visited = [[False] * N for _ in range(N)] # NxN 격자의 경우\n",
    "    visited[y][x] = True\n",
    " \n",
    "    while q: #queue에 값이 존재하는 동안 반복\n",
    "        sy, sx = q.popleft() \n",
    "        for d in range(4): # pop한 좌표의 4방향 탐색\n",
    "            ny = sy + dy[d]\n",
    "            nx = sx + dx[d]\n",
    " \n",
    "            if out_ot_range(ny, nx) or visited[ny][nx]: # 격자에서 벗어났거나, 방문한 좌표의 경우 continue\n",
    "                continue\n",
    "            else: # 아닌 경우 (상황에 따라 다른 예외가 있는 경우 처리해야합니다.)\n",
    "                do_something() # 이후 동작 호출(혹은 코드를 바로 작성하여도 무방)\n",
    "                q.append((ny, nx)) # queue에 탐색한 좌표 추가 및 방문 기록\n",
    "                visited[ny][nx] = True"
   ]
  },
  {
   "cell_type": "markdown",
   "metadata": {},
   "source": [
    "- 추천문제\n",
    "    - 골드5 로봇청소기(https://www.acmicpc.net/problem/14503)\n",
    "    - 골드2 상어 중학교 (https://www.acmicpc.net/source/41094409)"
   ]
  },
  {
   "cell_type": "markdown",
   "metadata": {},
   "source": [
    "### 1.2 DFS를 이용한 조합(combinations) 구현 ###\n",
    "\n",
    "- ~ 중에서 M개를 골랐을 때 최소/최대가 되는 값을 찾을 때(순서 없는 경우)\n",
    "- 예시에서 comb 변수는 deque를 사용했지만 list로 구현해도 무방.\n",
    "- 대신 deque가 시간복잡도에서 유리하긴 할듯"
   ]
  },
  {
   "cell_type": "code",
   "execution_count": null,
   "metadata": {},
   "outputs": [],
   "source": [
    "from collections import deque\n",
    " \n",
    "def do_something(comb):\n",
    "    print(comb)\n",
    " \n",
    "M = 3\n",
    "some_list = [1, 2, 3, 4]\n",
    " \n",
    " \n",
    "def dfs(comb: deque, depth: int):\n",
    "    if len(comb) == M:  # 종료 조건 1 : M개를 모두 선택했을 때\n",
    "        do_something(comb)  # 선택 후의 알고리즘 호출\n",
    "        return\n",
    "    elif depth == len(some_list):  # 종료 조건 2: 리스트의 마지막 까지 탐색했을 때\n",
    "        return\n",
    " \n",
    "    # 현재 depth의 값 포함 재귀 호출\n",
    "    comb.append(some_list[depth])\n",
    "    dfs(comb, depth + 1)\n",
    " \n",
    "    # 현재 depth의 값 미포함 재귀 호출\n",
    "    comb.pop()\n",
    "    dfs(comb, depth + 1)\n",
    " \n",
    "dfs(deque(), 0)"
   ]
  },
  {
   "cell_type": "markdown",
   "metadata": {},
   "source": [
    "위의 코드 출력 결과 (4C3 이므로 결과는 4개) : (1, 2, 3) ~ (2, 3, 4)까지\n",
    "\n",
    "```\n",
    "deque([1, 2, 3])\n",
    "deque([1, 2, 4])\n",
    "deque([1, 3, 4])\n",
    "deque([2, 3, 4])\n",
    "```\n",
    "\n",
    "- 추천 문제\n",
    "    - 골드5 치킨 배달(https://www.acmicpc.net/problem/15686)\n",
    "    - 골드4 연구소 3(https://www.acmicpc.net/problem/17142)"
   ]
  },
  {
   "cell_type": "markdown",
   "metadata": {},
   "source": [
    "### 1.3 DFS를 이용한 순열 구현 ###\n",
    "- ~ 중에서 M개를 골랐을 때 최소/최대가 되는 값을 찾을 때(순서 있는 경우)\n",
    "- 조합 구현과 비슷하지만 depth가 아닌 visited 변수를 이용하여 방문기록 확인하며 재귀 호출\n",
    "- 중복을 허용하므로 재귀가 호출될 때마다 리스트 모든 값을 탐색 후 방문 안한 노드를 포함해 재귀함수 호출"
   ]
  },
  {
   "cell_type": "code",
   "execution_count": null,
   "metadata": {},
   "outputs": [],
   "source": [
    "from collections import deque\n",
    " \n",
    "def do_something(perm):\n",
    "    print(perm)\n",
    " \n",
    "M = 3\n",
    "some_list = [1, 2, 3, 4]\n",
    " \n",
    "visited = [False] * len(some_list)\n",
    "result = []\n",
    "def dfs(perm: deque):\n",
    "    if len(perm) == M:  # 종료 조건 : M개를 모두 선택했을 때\n",
    "        result.append(list(perm))\n",
    "        do_something(perm)\n",
    "        return\n",
    " \n",
    "    for i, val in enumerate(some_list):\n",
    "        if visited[i]: # 방문한 노드인 경우 제외\n",
    "            continue\n",
    "        # i번째 노드를 포함하여 재귀 호출\n",
    "        perm.append(val)\n",
    "        visited[i] = True\n",
    "        dfs(perm)\n",
    "        # i번째 노드 삭제\n",
    "        perm.pop()\n",
    "        visited[i] = False\n",
    " \n",
    "dfs(deque())"
   ]
  },
  {
   "cell_type": "markdown",
   "metadata": {},
   "source": [
    "\n",
    "위의 코드 출력 결과(4P3 이므로 24개) : (1,2,3) ~ (4,3,2) 까지\n",
    "\n",
    "```\n",
    "deque([1, 2, 3]) deque([1, 2, 4]) deque([1, 3, 2]) deque([1, 3, 4])\n",
    "deque([1, 4, 2]) deque([1, 4, 3]) deque([2, 1, 3]) deque([2, 1, 4])\n",
    "deque([2, 3, 1]) deque([2, 3, 4]) deque([2, 4, 1]) deque([2, 4, 3])\n",
    "deque([3, 1, 2]) deque([3, 1, 4]) deque([3, 2, 1]) deque([3, 2, 4])\n",
    "deque([3, 4, 1]) deque([3, 4, 2]) deque([4, 1, 2]) deque([4, 1, 3])\n",
    "deque([4, 2, 1]) deque([4, 2, 3]) deque([4, 3, 1]) deque([4, 3, 2])\n",
    "```\n",
    "\n",
    "- 추천 문제\n",
    "    - 골드1 마법사 상어와 복제 (https://www.acmicpc.net/problem/23290)"
   ]
  },
  {
   "cell_type": "markdown",
   "metadata": {},
   "source": [
    "\n",
    "## 2. 특수 알고리즘\n",
    "매번 등장하는 문제의 유형들은 아니지만 꽤나 반복적으로 등장하므로 미리 알아두면 좋을듯"
   ]
  },
  {
   "cell_type": "markdown",
   "metadata": {},
   "source": [
    "### 2.1 2차원 배열의 나선형 알고리즘 ###\n",
    "- 기본적으로는 홀수길이의 2차원 배열의 중심에서 시작하여 방향을 바꾸며 이동(혹은 탐색)을 하는데, 방향을 2번 바꿀 때마다 이동 거리가 1씩 증가하는 형식의 알고리즘\n",
    "- 예시는 5x5 격자에 중앙에서부터 번호를 붙이는 파이썬 코드"
   ]
  },
  {
   "cell_type": "code",
   "execution_count": null,
   "metadata": {},
   "outputs": [],
   "source": [
    "N = 5\n",
    "board = [[0] * N for _ in range(N)]\n",
    " \n",
    "#      ←   ↓   →   ↑ (4방향, 시작방향: 서쪽)\n",
    "dy = ( 0,  1,  0, -1)\n",
    "dx = (-1,  0,  1,  0)\n",
    " \n",
    " \n",
    "def init_grid():\n",
    "    y = x = int(N / 2) # 배열의 중앙 좌표\n",
    "    direction = move_count = number = 0\n",
    "    dist = 1\n",
    " \n",
    "    while True:\n",
    "        move_count += 1 # 움직인 횟수\n",
    "        for _ in range(dist): # dist만큼 direction 방향으로 이동\n",
    "            ny = y + dy[direction]\n",
    "            nx = x + dx[direction]\n",
    " \n",
    "            # 종료 조건 : 이동한 좌표가 (0, -1)인 경우(배열의 길이가 홀수면 항상 마지막 좌표는 (0, -1), 방향은 서쪽\n",
    "            if (ny, nx) == (0, -1):\n",
    "                return\n",
    "            # 번호 증가 및 기록\n",
    "            number += 1\n",
    "            board[ny][nx] = number\n",
    " \n",
    "            # (y, x) 갱신\n",
    "            y = ny\n",
    "            x = nx\n",
    " \n",
    "        if move_count == 2: # 어떠한 방향으로든 2번 이동한 경우\n",
    "            dist += 1 # 이동거리 1 증가\n",
    "            move_count = 0 # 초기화\n",
    "        direction = (direction + 1) % 4 # 방향 변경\n",
    " \n",
    "init_grid()\n",
    "for row in board:\n",
    "    print(row)"
   ]
  },
  {
   "cell_type": "markdown",
   "metadata": {},
   "source": [
    "위의 코드 출력 결과(나선형 형태를 따라서 번호가 0~24번까지 기록됨)\n",
    "\n",
    "```\n",
    "[24, 23, 22, 21, 20]\n",
    "[9, 8, 7, 6, 19]\n",
    "[10, 1, 0, 5, 18]\n",
    "[11, 2, 3, 4, 17]\n",
    "[12, 13, 14, 15, 16]\n",
    "```"
   ]
  },
  {
   "cell_type": "markdown",
   "metadata": {},
   "source": [
    "### 2.2 배열 돌리기 ###\n",
    "- 2차원 배열을 45도 90도 180도 등 다양한 형태로 회전시키는 유형의 문제도 자주 등장\n",
    "- 단순히 2차원 배열을 회전시키는것 보단 2차원 배열 내에서 사각형 형태로 배열을 잘라 해당 배열만 회전시키는 방식으로 회전시키는 문제들이 있음"
   ]
  },
  {
   "cell_type": "code",
   "execution_count": null,
   "metadata": {},
   "outputs": [],
   "source": [
    "N = 5\n",
    "board = [[i * N + j for j in range(N)] for i in range(N)]\n",
    " \n",
    " \n",
    "def rotate45():\n",
    "    # 시계방향으로 배열을 45도 회전하는 함수\n",
    "    new_board = [[0] * N for _ in range(N)]\n",
    "    for i in range(N):\n",
    "        for j in range(N):\n",
    "            new_board[i][j] = board[N - j - 1][i]\n",
    "    return new_board\n",
    " \n",
    " \n",
    "print(\"원본\")\n",
    "for row in board:\n",
    "    print(row)\n",
    "print()\n",
    " \n",
    "print(\"시계방향 45도 회전\")\n",
    "rotated = rotate45()\n",
    "for row in rotated:\n",
    "    print(row)"
   ]
  },
  {
   "cell_type": "markdown",
   "metadata": {},
   "source": [
    "- 추천 문제\n",
    "    - 골드4 마법사 상어와 파이어스톰(https://www.acmicpc.net/problem/20058)\n",
    "    - 플래티넘5 어항 정리(https://www.acmicpc.net/problem/23291) - (어려움)\n",
    "    - 배열 돌리기 시리즈(https://www.acmicpc.net/problem/16926)"
   ]
  },
  {
   "cell_type": "markdown",
   "metadata": {},
   "source": [
    "출처 : https://kimjingo.tistory.com/205"
   ]
  }
 ],
 "metadata": {
  "language_info": {
   "name": "python"
  },
  "orig_nbformat": 4
 },
 "nbformat": 4,
 "nbformat_minor": 2
}
